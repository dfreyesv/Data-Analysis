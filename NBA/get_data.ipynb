{
 "cells": [
  {
   "cell_type": "code",
   "execution_count": 1,
   "id": "ac6cc9c1-ce1a-4cb6-9c30-f172399a2bdc",
   "metadata": {},
   "outputs": [],
   "source": [
    "import os\n",
    "from bs4 import BeautifulSoup\n",
    "from playwright.async_api import async_playwright, TimeoutError as PlaywrightTimeout\n",
    "import pandas as pd\n",
    "import time, sys"
   ]
  },
  {
   "cell_type": "code",
   "execution_count": 2,
   "id": "3f40c536-f135-47f2-ab32-c356c2d13193",
   "metadata": {},
   "outputs": [],
   "source": [
    "# List of seasons scrap the games from.\n",
    "SEASONS = list(range(2017, 2024))"
   ]
  },
  {
   "cell_type": "code",
   "execution_count": 6,
   "id": "1bdda19f-2657-45ed-beeb-351b345ebee7",
   "metadata": {},
   "outputs": [],
   "source": [
    "# Directories where to save the html files\n",
    "data_dir = \"C:\\\\Users\\\\dfrv9\\\\Documents\\\\NBA\"\n",
    "season_games_dir = os.path.join(data_dir, \"season games\")\n",
    "season_scores_dir = os.path.join(data_dir, \"season scores\")"
   ]
  },
  {
   "cell_type": "code",
   "execution_count": 7,
   "id": "c5509928-a264-4ccf-b33e-d16342851abb",
   "metadata": {},
   "outputs": [],
   "source": [
    "# Function to get html section from page\n",
    "# basketball-reference allows max 20 requests per min\n",
    "async def get_html(url, selector, sleep=3.5, retries=3):\n",
    "    \n",
    "    html = None\n",
    "    for i in range(1, retries+1):\n",
    "        time.sleep(sleep * i)\n",
    "        try:\n",
    "            async with async_playwright() as p:\n",
    "                browser = await p.firefox.launch()\n",
    "                page = await browser.new_page()\n",
    "                await page.goto(url)\n",
    "                # print(await page.title())\n",
    "                html = await page.inner_html(selector)\n",
    "        except PlaywrightTimeout:\n",
    "            print(f\"Timeout error on {url}\")\n",
    "            continue\n",
    "        else:\n",
    "            break\n",
    "    return html"
   ]
  },
  {
   "cell_type": "code",
   "execution_count": 8,
   "id": "5d295782-ce2f-42cb-bacc-823eeaff07fe",
   "metadata": {},
   "outputs": [],
   "source": [
    "async def scrape_games(season):\n",
    "    url = f\"https://www.basketball-reference.com/leagues/NBA_{season}_games.html\"\n",
    "    html = await get_html(url, \"#content .filter\")\n",
    "    \n",
    "    soup = BeautifulSoup(html)\n",
    "    games = soup.find_all(\"a\")\n",
    "    season_month_games = [f\"https://www.basketball-reference.com{l['href']}\" for l in games]\n",
    "    \n",
    "    # Create the directory for the season if it doesn't exist\n",
    "    season_dir = os.path.join(season_games_dir, str(season))\n",
    "    os.makedirs(season_dir, exist_ok=True)\n",
    "    \n",
    "    # Initialize a counter for numbering files\n",
    "    file_counter = 1\n",
    "    \n",
    "    for url in season_month_games:\n",
    "        # Format the counter as a three-digit number with leading zeros\n",
    "        file_number = f\"{file_counter:03d}\"\n",
    "        save_path = os.path.join(season_dir, f\"{file_number}_{url.split('/')[-1]}\")\n",
    "        \n",
    "        # Increment the file counter\n",
    "        file_counter += 1\n",
    "        \n",
    "        if os.path.exists(save_path):\n",
    "            #print(\"skipped\")\n",
    "            continue\n",
    "        \n",
    "        html = await get_html(url, \"#all_schedule\")\n",
    "        with open(save_path, \"w+\") as f:\n",
    "            f.write(html)"
   ]
  },
  {
   "cell_type": "code",
   "execution_count": 9,
   "id": "990e1999-28af-4653-b7f8-4c12d1eb1853",
   "metadata": {
    "tags": []
   },
   "outputs": [],
   "source": [
    "async def scrape_scores(games_file, file_counter):\n",
    "    with open(games_file, 'r') as f:\n",
    "        html = f.read()\n",
    "    soup = BeautifulSoup(html)\n",
    "    scores = soup.find_all(\"a\")\n",
    "    hrefs = [l.get(\"href\") for l in scores]\n",
    "    box_scores = [l for l in hrefs if l and \"boxscore\" in l and \".html\" in l]\n",
    "    box_scores =  [f\"https://www.basketball-reference.com{l}\" for l in box_scores]\n",
    "    \n",
    "    # Create the directory for the season if it doesn't exist\n",
    "    season_dir = os.path.join(season_scores_dir, games_file.split(\"\\\\\")[-2])\n",
    "    os.makedirs(season_dir, exist_ok=True)\n",
    "    \n",
    "    for url in box_scores:\n",
    "        \n",
    "        # Format the counter as a four-digit number with leading zeros\n",
    "        file_number = f\"{file_counter:04d}\"\n",
    "        \n",
    "        save_path = os.path.join(season_dir, f\"{file_number}_{url.split('/')[-1]}\")\n",
    "        \n",
    "        # Increment the file counter\n",
    "        file_counter += 1\n",
    "        \n",
    "        if os.path.exists(save_path):\n",
    "            continue\n",
    "\n",
    "        html = await get_html(url, \"#content\")\n",
    "        if not html:\n",
    "            continue\n",
    "        with open(save_path, \"w+\", encoding=\"utf-8\") as f:\n",
    "                f.write(html)\n",
    "    return file_counter"
   ]
  },
  {
   "cell_type": "code",
   "execution_count": 10,
   "id": "333c21dc-7897-47fe-a508-45a58c4b8dd9",
   "metadata": {
    "tags": []
   },
   "outputs": [],
   "source": [
    "for season in SEASONS:\n",
    "    await scrape_games(season)"
   ]
  },
  {
   "cell_type": "code",
   "execution_count": 11,
   "id": "ac345d0e-371c-458f-a47a-673dfc310f59",
   "metadata": {
    "tags": []
   },
   "outputs": [],
   "source": [
    "for season in SEASONS:\n",
    "    season_dir = os.path.join(season_games_dir, str(season))\n",
    "    games_files = os.listdir(season_dir)\n",
    "    games_files = [x for x in games_files if \".html\" in x]\n",
    "    \n",
    "    # Initialize a counter for numbering files\n",
    "    file_counter = 1\n",
    "    for f in games_files:\n",
    "        filepath = os.path.join(season_dir, f)\n",
    "    \n",
    "        final_file_counter = await scrape_scores(filepath, file_counter)\n",
    "        \n",
    "        file_counter = final_file_counter"
   ]
  }
 ],
 "metadata": {
  "kernelspec": {
   "display_name": "Python 3 (ipykernel)",
   "language": "python",
   "name": "python3"
  },
  "language_info": {
   "codemirror_mode": {
    "name": "ipython",
    "version": 3
   },
   "file_extension": ".py",
   "mimetype": "text/x-python",
   "name": "python",
   "nbconvert_exporter": "python",
   "pygments_lexer": "ipython3",
   "version": "3.10.9"
  }
 },
 "nbformat": 4,
 "nbformat_minor": 5
}
